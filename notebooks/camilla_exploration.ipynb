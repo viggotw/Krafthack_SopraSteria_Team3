{
 "cells": [
  {
   "cell_type": "code",
   "execution_count": 3,
   "metadata": {},
   "outputs": [
    {
     "name": "stdout",
     "output_type": "stream",
     "text": [
      "/workspaces/Krafthack_SopraSteria_Team3\n"
     ]
    }
   ],
   "source": [
    "import csv\n",
    "import numpy as np\n",
    "import pandas as pd\n",
    "from pandas import read_csv\n",
    "from pandas import DataFrame\n",
    "from pandas import Grouper\n",
    "from matplotlib import pyplot\n",
    "import matplotlib.pyplot as plt\n",
    "from sklearn.linear_model import LinearRegression\n",
    "from sklearn.metrics import mean_absolute_percentage_error\n",
    "from sklearn.ensemble import RandomForestRegressor\n",
    "\n",
    "import os\n",
    "print(os.getcwd())"
   ]
  },
  {
   "cell_type": "code",
   "execution_count": 4,
   "metadata": {},
   "outputs": [],
   "source": [
    "bolt_pretension = pd.read_csv(\"data_krafthack/bolt_pretension.csv\")\n",
    "dataset_1 = pd.read_parquet(\"data_krafthack/input_dataset-1.parquet\", engine='fastparquet')\n",
    "dataset_2 =pd.read_parquet(\"data_krafthack/input_dataset-2.parquet\", engine='fastparquet')\n",
    "prediction_input = pd.read_parquet(\"data_krafthack/prediction_input.parquet\", engine='fastparquet')\n",
    "\n",
    "dataset_2.reset_index(inplace=True)"
   ]
  },
  {
   "cell_type": "code",
   "execution_count": 62,
   "metadata": {},
   "outputs": [
    {
     "name": "stdout",
     "output_type": "stream",
     "text": [
      "Size train:  1400000\n",
      "Size test:  350000\n"
     ]
    }
   ],
   "source": [
    "def data_prep():\n",
    "\n",
    "    # Include datetime variable as variable\n",
    "    df = dataset_2.rename(columns = {'timepoints':'time'})\n",
    "\n",
    "    # Drop vibration\n",
    "    df.drop(\"lower_bearing_vib_vrt\", inplace=True, axis=1)\n",
    "    df.drop(\"turbine_bearing_vib_vrt\", inplace=True, axis=1)\n",
    "\n",
    "    # Remove all missing values\n",
    "    df = df.dropna()\n",
    "\n",
    "    # Make \"mode\" into dummy variable\n",
    "    y = pd.get_dummies(df[\"mode\"], prefix=\"Mode\")\n",
    "    df = df.join(y)\n",
    "    df.drop(\"mode\", inplace=True, axis=1)\n",
    "\n",
    "    # Transform the date variable\n",
    "    df['time_hour'] = df['time'].dt.hour\n",
    "    df['time_weekday'] = df['time'].dt.dayofweek\n",
    "    df.drop(\"time\", inplace=True, axis=1)\n",
    "\n",
    "    #x = np.array([i for i in range(df.shape[0])])\n",
    "    #x = pd.DataFrame(x, columns=[\"time_counter\"])\n",
    "    #df = df.join(x)\n",
    "\n",
    "    # Make the different datasets\n",
    "\n",
    "    df_min = df[[\"time_weekday\", \"time_hour\", \"Unit_4_Power\", \"Unit_4_Reactive Power\", \"Turbine_Guide Vane Opening\",\n",
    "                \"Turbine_Pressure Drafttube\", \"Turbine_Pressure Spiral Casing\", \"Turbine_Rotational Speed\",\n",
    "                \"Mode_start\", \"Mode_operation\"]]\n",
    "\n",
    "    df_all = df[[\"time_weekday\", \"time_hour\", \"Unit_4_Power\", \"Unit_4_Reactive Power\", \"Turbine_Guide Vane Opening\",\n",
    "                \"Turbine_Pressure Drafttube\", \"Turbine_Pressure Spiral Casing\", \"Turbine_Rotational Speed\",\n",
    "                \"Mode_start\", \"Mode_operation\",\n",
    "                \"Bolt_1_Torsion\", \"Bolt_2_Torsion\", \"Bolt_3_Torsion\", \"Bolt_4_Torsion\",\n",
    "                \"Bolt_5_Torsion\", \"Bolt_6_Torsion\"]]\n",
    "\n",
    "    df_bolt1 = df[\"Bolt_1_Tensile\"]\n",
    "    df_bolt2 = df[\"Bolt_2_Tensile\"]\n",
    "    df_bolt3 = df[\"Bolt_3_Tensile\"]\n",
    "    df_bolt4 = df[\"Bolt_4_Tensile\"]\n",
    "    df_bolt5 = df[\"Bolt_5_Tensile\"]\n",
    "    df_bolt6 = df[\"Bolt_6_Tensile\"]\n",
    "\n",
    "    # Make test/train split 70/30\n",
    "\n",
    "    len = df.shape[0]\n",
    "    size_train = int(np.floor(len*0.8))\n",
    "    size_test = int(len - size_train)\n",
    "    print(\"Size train: \", size_train)\n",
    "    print(\"Size test: \", size_test)\n",
    "\n",
    "    df_min_train = df_min.head(size_train)\n",
    "    df_min_test = df_min.tail(size_test)\n",
    "\n",
    "    df_all_train = df_all.head(size_train)\n",
    "    df_all_test = df_all.tail(size_test)\n",
    "\n",
    "    df_bolt1_train = df_bolt1.head(size_train)\n",
    "    df_bolt1_test = df_bolt1.tail(size_test)\n",
    "\n",
    "    df_bolt2_train = df_bolt2.head(size_train)\n",
    "    df_bolt2_test = df_bolt2.tail(size_test)\n",
    "\n",
    "    df_bolt3_train = df_bolt3.head(size_train)\n",
    "    df_bolt3_test = df_bolt3.tail(size_test)\n",
    "\n",
    "    df_bolt4_train = df_bolt4.head(size_train)\n",
    "    df_bolt4_test = df_bolt4.tail(size_test)\n",
    "\n",
    "    df_bolt5_train = df_bolt5.head(size_train)\n",
    "    df_bolt5_test = df_bolt5.tail(size_test)\n",
    "\n",
    "    df_bolt6_train = df_bolt6.head(size_train)\n",
    "    df_bolt6_test = df_bolt6.tail(size_test)\n",
    "\n",
    "    return df_min_train, df_min_test, df_all_train, df_all_test, df_bolt1_train, df_bolt1_test, df_bolt2_train, df_bolt2_test, df_bolt3_train, df_bolt3_test, df_bolt4_train, df_bolt4_test, df_bolt5_train, df_bolt5_test, df_bolt6_train, df_bolt6_test, size_test, size_train\n",
    "\n",
    "df_min_train, df_min_test, df_all_train, df_all_test, df_bolt1_train, df_bolt1_test, df_bolt2_train, df_bolt2_test, df_bolt3_train, df_bolt3_test, df_bolt4_train, df_bolt4_test, df_bolt5_train, df_bolt5_test, df_bolt6_train, df_bolt6_test, size_test, size_train = data_prep()"
   ]
  },
  {
   "cell_type": "code",
   "execution_count": 65,
   "metadata": {},
   "outputs": [],
   "source": [
    "# Add last observed value at each timestep\n",
    "x = np.array(df_bolt1_train)\n",
    "y = np.zeros(df_min_train.shape[0])\n",
    "for i in range(df_min_train.shape[0]):\n",
    "    if i == 0:\n",
    "        y[i] = x[i]\n",
    "    else:\n",
    "        y[i] = x[i-1]\n",
    "\n",
    "df_min_bolt1_train = df_min_train.copy(deep=True)\n",
    "df_min_bolt1_train[\"Last_bolt1\"] = y"
   ]
  },
  {
   "cell_type": "code",
   "execution_count": 73,
   "metadata": {},
   "outputs": [
    {
     "name": "stdout",
     "output_type": "stream",
     "text": [
      "MAPE training:  2.4158183146476983e-05\n"
     ]
    }
   ],
   "source": [
    "# Linear regression model\n",
    "\n",
    "x_train = df_min_bolt1_train\n",
    "y_train = df_bolt1_train\n",
    "\n",
    "model = LinearRegression()\n",
    "model.fit(x_train, y_train)\n",
    "\n",
    "y_pred = model.predict(x_train)\n",
    "print(\"MAPE training: \", mean_absolute_percentage_error(y_train, y_pred))\n",
    "\n",
    "#y = np.array(abs(y_train-y_pred))\n",
    "#x = np.array(x_train[\"Mode_operation\"])\n",
    "#plt.figure()\n",
    "#plt.scatter(y, x)\n",
    "#plt.xlabel(\"Diff y_true - y_pred\")\n",
    "#plt.ylabel(\"Mode (1 operation, 0 start)\")\n",
    "#plt.title(\"Difference in error between operation and start\")\n",
    "#plt.show()"
   ]
  },
  {
   "cell_type": "code",
   "execution_count": 72,
   "metadata": {},
   "outputs": [
    {
     "name": "stdout",
     "output_type": "stream",
     "text": [
      "MAPE training:  0.016637557229301866\n"
     ]
    },
    {
     "data": {
      "image/png": "[encoded data removed]",
      "text/plain": [
       "<Figure size 432x288 with 1 Axes>"
      ]
     },
     "metadata": {
      "needs_background": "light"
     },
     "output_type": "display_data"
    }
   ],
   "source": [
    "# Test set\n",
    "y_train = df_min_test\n",
    "y_test = df_bolt1_test\n",
    "\n",
    "y_pred = model.predict(y_train)\n",
    "print(\"MAPE training: \", mean_absolute_percentage_error(y_test, y_pred))\n",
    "\n",
    "y = np.array(abs(y_test-y_pred))\n",
    "x = np.array(y_train[\"Mode_operation\"])\n",
    "plt.figure()\n",
    "plt.scatter(y, x)\n",
    "plt.xlabel(\"Diff y_true - y_pred\")\n",
    "plt.ylabel(\"Mode (1 operation, 0 start)\")\n",
    "plt.title(\"Difference in error between operation and start\")\n",
    "plt.show()"
   ]
  },
  {
   "cell_type": "code",
   "execution_count": 79,
   "metadata": {},
   "outputs": [
    {
     "name": "stdout",
     "output_type": "stream",
     "text": [
      "         time_weekday  time_hour  Unit_4_Power  Unit_4_Reactive Power  \\\n",
      "1404825             6         15    311.781272              25.866796   \n",
      "\n",
      "         Turbine_Guide Vane Opening  Turbine_Pressure Drafttube  \\\n",
      "1404825                   94.396592                  150.898834   \n",
      "\n",
      "         Turbine_Pressure Spiral Casing  Turbine_Rotational Speed  Mode_start  \\\n",
      "1404825                     5297.672259                108.126568           0   \n",
      "\n",
      "         Mode_operation   Last_bolt1  \n",
      "1404825               1  1619.792326  \n"
     ]
    },
    {
     "name": "stderr",
     "output_type": "stream",
     "text": [
      "/tmp/ipykernel_24690/1515107280.py:12: SettingWithCopyWarning: \n",
      "A value is trying to be set on a copy of a slice from a DataFrame.\n",
      "Try using .loc[row_indexer,col_indexer] = value instead\n",
      "\n",
      "See the caveats in the documentation: https://pandas.pydata.org/pandas-docs/stable/user_guide/indexing.html#returning-a-view-versus-a-copy\n",
      "  z[\"Last_bolt1\"] = last_y\n"
     ]
    },
    {
     "ename": "ValueError",
     "evalue": "setting an array element with a sequence.",
     "output_type": "error",
     "traceback": [
      "\u001b[0;31m---------------------------------------------------------------------------\u001b[0m",
      "\u001b[0;31mTypeError\u001b[0m                                 Traceback (most recent call last)",
      "\u001b[0;31mTypeError\u001b[0m: only size-1 arrays can be converted to Python scalars",
      "\nThe above exception was the direct cause of the following exception:\n",
      "\u001b[0;31mValueError\u001b[0m                                Traceback (most recent call last)",
      "\u001b[0;32m/tmp/ipykernel_24690/1515107280.py\u001b[0m in \u001b[0;36m<module>\u001b[0;34m\u001b[0m\n\u001b[1;32m     15\u001b[0m \u001b[0;34m\u001b[0m\u001b[0m\n\u001b[1;32m     16\u001b[0m     \u001b[0my_pred\u001b[0m \u001b[0;34m=\u001b[0m \u001b[0mmodel\u001b[0m\u001b[0;34m.\u001b[0m\u001b[0mpredict\u001b[0m\u001b[0;34m(\u001b[0m\u001b[0mx\u001b[0m\u001b[0;34m)\u001b[0m\u001b[0;34m\u001b[0m\u001b[0;34m\u001b[0m\u001b[0m\n\u001b[0;32m---> 17\u001b[0;31m     \u001b[0my_predicted\u001b[0m\u001b[0;34m[\u001b[0m\u001b[0mi\u001b[0m\u001b[0;34m]\u001b[0m \u001b[0;34m=\u001b[0m \u001b[0my_pred\u001b[0m\u001b[0;34m\u001b[0m\u001b[0;34m\u001b[0m\u001b[0m\n\u001b[0m\u001b[1;32m     18\u001b[0m     \u001b[0mlast_y\u001b[0m \u001b[0;34m=\u001b[0m \u001b[0my_pred\u001b[0m\u001b[0;34m\u001b[0m\u001b[0;34m\u001b[0m\u001b[0m\n",
      "\u001b[0;31mValueError\u001b[0m: setting an array element with a sequence."
     ]
    }
   ],
   "source": [
    "# Test set\n",
    "y_train = df_min_test\n",
    "y_test = df_bolt1_test\n",
    "last_y = float(df_bolt1_train.iloc[df_bolt1_train.shape[0]-1])\n",
    "y_predicted = np.zeros(3000) #df_bolt1_test.shape[0]\n",
    "\n",
    "x = y_train.copy(deep=True)\n",
    "x[\"Last_bolt1\"] = np.zeros(x.shape[0])\n",
    "\n",
    "for i in range(3000): #df_bolt1_test.shape[0]\n",
    "    z = x.iloc[[i]]\n",
    "    z[\"Last_bolt1\"] = last_y\n",
    "\n",
    "    print(z)\n",
    "    \n",
    "    y_pred = model.predict(x)\n",
    "    y_predicted[i] = y_pred\n",
    "    last_y = y_pred"
   ]
  },
  {
   "cell_type": "code",
   "execution_count": 77,
   "metadata": {},
   "outputs": [
    {
     "name": "stdout",
     "output_type": "stream",
     "text": [
      "MAPE training:  0.003508650890258494\n"
     ]
    }
   ],
   "source": [
    "print(\"MAPE training: \", mean_absolute_percentage_error(y_test[:3000], y_predicted))"
   ]
  },
  {
   "cell_type": "code",
   "execution_count": 158,
   "metadata": {},
   "outputs": [
    {
     "data": {
      "text/plain": [
       "Index(['time_weekday', 'time_hour', 'Unit_4_Power', 'Unit_4_Reactive Power',\n",
       "       'Turbine_Guide Vane Opening', 'Turbine_Pressure Drafttube',\n",
       "       'Turbine_Pressure Spiral Casing', 'Turbine_Rotational Speed',\n",
       "       'Mode_start', 'Mode_operation'],\n",
       "      dtype='object')"
      ]
     },
     "execution_count": 158,
     "metadata": {},
     "output_type": "execute_result"
    }
   ],
   "source": [
    "# Test on prediction_input\n",
    "\n",
    "d = {\"time\": prediction_input.index}\n",
    "res = pd.DataFrame(data=d)\n",
    "\n",
    "y = pd.get_dummies(prediction_input[\"mode\"], prefix=\"Mode\")\n",
    "df_test = prediction_input.join(y)\n",
    "df_test.drop(\"mode\", inplace=True, axis=1)\n",
    "\n",
    "df_test.reset_index(inplace=True)\n",
    "df_test = df_test.rename(columns = {'timepoints':'time'})\n",
    "df_test['time_hour'] = df_test[\"time\"].dt.hour\n",
    "df_test['time_weekday'] = df_test[\"time\"].dt.dayofweek\n",
    "df_test.drop(\"time\", inplace=True, axis=1)\n",
    "\n",
    "df_test = df_test[['time_weekday', 'time_hour', 'Unit_4_Power', 'Unit_4_Reactive Power',\n",
    "                    'Turbine_Guide Vane Opening', 'Turbine_Pressure Drafttube',\n",
    "                    'Turbine_Pressure Spiral Casing', 'Turbine_Rotational Speed',\n",
    "                    'Mode_start', 'Mode_operation']]"
   ]
  },
  {
   "cell_type": "code",
   "execution_count": 175,
   "metadata": {},
   "outputs": [],
   "source": [
    "y_pred = model.predict(df_test)\n",
    "\n",
    "y_pred\n",
    "res[\"Bolt_6_Tensile\"] = y_pred"
   ]
  },
  {
   "cell_type": "code",
   "execution_count": 179,
   "metadata": {},
   "outputs": [
    {
     "data": {
      "text/html": [
       "<div>\n",
       "<style scoped>\n",
       "    .dataframe tbody tr th:only-of-type {\n",
       "        vertical-align: middle;\n",
       "    }\n",
       "\n",
       "    .dataframe tbody tr th {\n",
       "        vertical-align: top;\n",
       "    }\n",
       "\n",
       "    .dataframe thead th {\n",
       "        text-align: right;\n",
       "    }\n",
       "</style>\n",
       "<table border=\"1\" class=\"dataframe\">\n",
       "  <thead>\n",
       "    <tr style=\"text-align: right;\">\n",
       "      <th></th>\n",
       "      <th>time</th>\n",
       "      <th>Bolt_1_Tensile</th>\n",
       "      <th>Bolt_2_Tensile</th>\n",
       "      <th>Bolt_3_Tensile</th>\n",
       "      <th>Bolt_4_Tensile</th>\n",
       "      <th>Bolt_5_Tensile</th>\n",
       "      <th>Bolt_6_Tensile</th>\n",
       "    </tr>\n",
       "  </thead>\n",
       "  <tbody>\n",
       "    <tr>\n",
       "      <th>0</th>\n",
       "      <td>1971-01-25 11:06:49</td>\n",
       "      <td>1602.048026</td>\n",
       "      <td>1483.364574</td>\n",
       "      <td>1685.323865</td>\n",
       "      <td>1603.115791</td>\n",
       "      <td>1637.478174</td>\n",
       "      <td>1676.569610</td>\n",
       "    </tr>\n",
       "    <tr>\n",
       "      <th>1</th>\n",
       "      <td>1971-01-25 11:06:50</td>\n",
       "      <td>1601.945445</td>\n",
       "      <td>1483.301325</td>\n",
       "      <td>1685.285715</td>\n",
       "      <td>1603.122388</td>\n",
       "      <td>1637.491443</td>\n",
       "      <td>1676.559883</td>\n",
       "    </tr>\n",
       "    <tr>\n",
       "      <th>2</th>\n",
       "      <td>1971-01-25 11:06:51</td>\n",
       "      <td>1601.823914</td>\n",
       "      <td>1483.226334</td>\n",
       "      <td>1685.240646</td>\n",
       "      <td>1603.129688</td>\n",
       "      <td>1637.506399</td>\n",
       "      <td>1676.548015</td>\n",
       "    </tr>\n",
       "    <tr>\n",
       "      <th>3</th>\n",
       "      <td>1971-01-25 11:06:52</td>\n",
       "      <td>1601.702383</td>\n",
       "      <td>1483.151343</td>\n",
       "      <td>1685.195577</td>\n",
       "      <td>1603.136987</td>\n",
       "      <td>1637.521356</td>\n",
       "      <td>1676.536146</td>\n",
       "    </tr>\n",
       "    <tr>\n",
       "      <th>4</th>\n",
       "      <td>1971-01-25 11:06:53</td>\n",
       "      <td>1601.589688</td>\n",
       "      <td>1483.082493</td>\n",
       "      <td>1685.154940</td>\n",
       "      <td>1603.143388</td>\n",
       "      <td>1637.534815</td>\n",
       "      <td>1676.526306</td>\n",
       "    </tr>\n",
       "    <tr>\n",
       "      <th>...</th>\n",
       "      <td>...</td>\n",
       "      <td>...</td>\n",
       "      <td>...</td>\n",
       "      <td>...</td>\n",
       "      <td>...</td>\n",
       "      <td>...</td>\n",
       "      <td>...</td>\n",
       "    </tr>\n",
       "    <tr>\n",
       "      <th>226359</th>\n",
       "      <td>1971-02-03 20:16:19</td>\n",
       "      <td>1663.042254</td>\n",
       "      <td>1522.928987</td>\n",
       "      <td>1713.543284</td>\n",
       "      <td>1588.991713</td>\n",
       "      <td>1622.618541</td>\n",
       "      <td>1684.094069</td>\n",
       "    </tr>\n",
       "    <tr>\n",
       "      <th>226360</th>\n",
       "      <td>1971-02-03 20:16:20</td>\n",
       "      <td>1663.950064</td>\n",
       "      <td>1523.542488</td>\n",
       "      <td>1713.964901</td>\n",
       "      <td>1588.799612</td>\n",
       "      <td>1622.432277</td>\n",
       "      <td>1684.246162</td>\n",
       "    </tr>\n",
       "    <tr>\n",
       "      <th>226361</th>\n",
       "      <td>1971-02-03 20:16:21</td>\n",
       "      <td>1664.858302</td>\n",
       "      <td>1524.156299</td>\n",
       "      <td>1714.386718</td>\n",
       "      <td>1588.607528</td>\n",
       "      <td>1622.246046</td>\n",
       "      <td>1684.398405</td>\n",
       "    </tr>\n",
       "    <tr>\n",
       "      <th>226362</th>\n",
       "      <td>1971-02-03 20:16:22</td>\n",
       "      <td>1665.780707</td>\n",
       "      <td>1524.778907</td>\n",
       "      <td>1714.814404</td>\n",
       "      <td>1588.415179</td>\n",
       "      <td>1622.060283</td>\n",
       "      <td>1684.553878</td>\n",
       "    </tr>\n",
       "    <tr>\n",
       "      <th>226363</th>\n",
       "      <td>1971-02-03 20:16:23</td>\n",
       "      <td>1666.779041</td>\n",
       "      <td>1525.448667</td>\n",
       "      <td>1715.273552</td>\n",
       "      <td>1588.221412</td>\n",
       "      <td>1621.877023</td>\n",
       "      <td>1684.726653</td>\n",
       "    </tr>\n",
       "  </tbody>\n",
       "</table>\n",
       "<p>226364 rows × 7 columns</p>\n",
       "</div>"
      ],
      "text/plain": [
       "                      time  Bolt_1_Tensile  Bolt_2_Tensile  Bolt_3_Tensile  \\\n",
       "0      1971-01-25 11:06:49     1602.048026     1483.364574     1685.323865   \n",
       "1      1971-01-25 11:06:50     1601.945445     1483.301325     1685.285715   \n",
       "2      1971-01-25 11:06:51     1601.823914     1483.226334     1685.240646   \n",
       "3      1971-01-25 11:06:52     1601.702383     1483.151343     1685.195577   \n",
       "4      1971-01-25 11:06:53     1601.589688     1483.082493     1685.154940   \n",
       "...                    ...             ...             ...             ...   \n",
       "226359 1971-02-03 20:16:19     1663.042254     1522.928987     1713.543284   \n",
       "226360 1971-02-03 20:16:20     1663.950064     1523.542488     1713.964901   \n",
       "226361 1971-02-03 20:16:21     1664.858302     1524.156299     1714.386718   \n",
       "226362 1971-02-03 20:16:22     1665.780707     1524.778907     1714.814404   \n",
       "226363 1971-02-03 20:16:23     1666.779041     1525.448667     1715.273552   \n",
       "\n",
       "        Bolt_4_Tensile  Bolt_5_Tensile  Bolt_6_Tensile  \n",
       "0          1603.115791     1637.478174     1676.569610  \n",
       "1          1603.122388     1637.491443     1676.559883  \n",
       "2          1603.129688     1637.506399     1676.548015  \n",
       "3          1603.136987     1637.521356     1676.536146  \n",
       "4          1603.143388     1637.534815     1676.526306  \n",
       "...                ...             ...             ...  \n",
       "226359     1588.991713     1622.618541     1684.094069  \n",
       "226360     1588.799612     1622.432277     1684.246162  \n",
       "226361     1588.607528     1622.246046     1684.398405  \n",
       "226362     1588.415179     1622.060283     1684.553878  \n",
       "226363     1588.221412     1621.877023     1684.726653  \n",
       "\n",
       "[226364 rows x 7 columns]"
      ]
     },
     "execution_count": 179,
     "metadata": {},
     "output_type": "execute_result"
    }
   ],
   "source": [
    "res\n",
    "\n",
    "res.to_csv(\"lin_reg_simple.csv\", index=False, sep='\\t')"
   ]
  },
  {
   "cell_type": "code",
   "execution_count": 60,
   "metadata": {},
   "outputs": [
    {
     "name": "stdout",
     "output_type": "stream",
     "text": [
      "r squre training:  0.9973134974193961\n",
      "MAPE training:  0.0001288475356330117\n"
     ]
    },
    {
     "data": {
      "image/png": "[encoded data removed]",
      "text/plain": [
       "<Figure size 432x288 with 1 Axes>"
      ]
     },
     "metadata": {
      "needs_background": "light"
     },
     "output_type": "display_data"
    }
   ],
   "source": [
    "# Check model on all data\n",
    "\n",
    "x_train = df_all_train\n",
    "y_train = df_bolt1_train\n",
    "\n",
    "model = LinearRegression()\n",
    "model.fit(x_train, y_train)\n",
    "\n",
    "y_pred = model.predict(x_train)\n",
    "print(\"r squre training: \", model.score(x_train, y_train))\n",
    "print(\"MAPE training: \", mean_absolute_percentage_error(y_train, y_pred))\n",
    "\n",
    "y = np.array(abs(y_train-y_pred))\n",
    "x = np.array(x_train[\"Mode_operation\"])\n",
    "\n",
    "plt.figure()\n",
    "plt.scatter(y, x)\n",
    "plt.xlabel(\"Diff y_true - y_pred\")\n",
    "plt.ylabel(\"Mode (1 operation, 0 start)\")\n",
    "plt.title(\"Difference in error between operation and start\")\n",
    "plt.show()"
   ]
  },
  {
   "cell_type": "code",
   "execution_count": 61,
   "metadata": {},
   "outputs": [
    {
     "name": "stdout",
     "output_type": "stream",
     "text": [
      "r squre training:  1.0\n",
      "MAPE training:  0.002607246621209129\n"
     ]
    },
    {
     "data": {
      "image/png": "[encoded data removed]",
      "text/plain": [
       "<Figure size 432x288 with 1 Axes>"
      ]
     },
     "metadata": {
      "needs_background": "light"
     },
     "output_type": "display_data"
    }
   ],
   "source": [
    "# Test set\n",
    "y_train = df_all_test\n",
    "y_test = df_bolt1_test\n",
    "\n",
    "y_pred = model.predict(y_train)\n",
    "\n",
    "print(\"r squre training: \", model.score(y_train, y_pred))\n",
    "print(\"MAPE training: \", mean_absolute_percentage_error(y_test, y_pred))\n",
    "\n",
    "y = np.array(abs(y_test-y_pred))\n",
    "x = np.array(y_train[\"Mode_operation\"])\n",
    "\n",
    "plt.figure()\n",
    "plt.scatter(y, x)\n",
    "plt.xlabel(\"Diff y_true - y_pred\")\n",
    "plt.ylabel(\"Mode (1 operation, 0 start)\")\n",
    "plt.title(\"Difference in error between operation and start\")\n",
    "plt.show()"
   ]
  },
  {
   "cell_type": "code",
   "execution_count": null,
   "metadata": {},
   "outputs": [],
   "source": [
    "# Use the model on the real test data..."
   ]
  },
  {
   "cell_type": "code",
   "execution_count": 69,
   "metadata": {},
   "outputs": [
    {
     "name": "stdout",
     "output_type": "stream",
     "text": [
      "r squre training:  0.7041160722192203\n",
      "MAPE training:  0.0013887807061450943\n"
     ]
    },
    {
     "data": {
      "image/png": "[encoded data removed]",
      "text/plain": [
       "<Figure size 432x288 with 1 Axes>"
      ]
     },
     "metadata": {
      "needs_background": "light"
     },
     "output_type": "display_data"
    }
   ],
   "source": [
    "# Tree model\n",
    "\n",
    "x_train = df_min_bolt1_train\n",
    "y_train = df_bolt1_train\n",
    "\n",
    "model = RandomForestRegressor(max_depth=4, n_estimators=100, criterion=\"absolute_error\", map_depth=3, max_features=4)\n",
    "model.fit(x_train, y_train)\n",
    "\n",
    "importance = model.feature_importances_\n",
    "importance"
   ]
  },
  {
   "cell_type": "code",
   "execution_count": null,
   "metadata": {},
   "outputs": [],
   "source": [
    "y_pred = model.predict(x_train)\n",
    "print(\"r squre training: \", model.score(x_train, y_train))\n",
    "print(\"MAPE training: \", mean_absolute_percentage_error(y_train, y_pred))\n",
    "\n",
    "y = np.array(abs(y_train-y_pred))\n",
    "x = np.array(x_train[\"Mode_operation\"])\n",
    "\n",
    "plt.figure()\n",
    "plt.scatter(y, x)\n",
    "plt.xlabel(\"Diff y_true - y_pred\")\n",
    "plt.ylabel(\"Mode (1 operation, 0 start)\")\n",
    "plt.title(\"Difference in error between operation and start\")\n",
    "plt.show()"
   ]
  },
  {
   "cell_type": "code",
   "execution_count": 73,
   "metadata": {},
   "outputs": [
    {
     "name": "stderr",
     "output_type": "stream",
     "text": [
      "/opt/conda/lib/python3.9/site-packages/sklearn/base.py:493: FutureWarning: The feature names should match those that were passed during fit. Starting version 1.2, an error will be raised.\n",
      "Feature names seen at fit time, yet now missing:\n",
      "- Bolt_1_Torsion\n",
      "- Bolt_2_Torsion\n",
      "- Bolt_3_Torsion\n",
      "- Bolt_4_Torsion\n",
      "- Bolt_5_Torsion\n",
      "- ...\n",
      "\n",
      "  warnings.warn(message, FutureWarning)\n"
     ]
    },
    {
     "ename": "ValueError",
     "evalue": "X has 10 features, but RandomForestRegressor is expecting 16 features as input.",
     "output_type": "error",
     "traceback": [
      "\u001b[0;31m---------------------------------------------------------------------------\u001b[0m",
      "\u001b[0;31mValueError\u001b[0m                                Traceback (most recent call last)",
      "\u001b[0;32m/tmp/ipykernel_882/5577851.py\u001b[0m in \u001b[0;36m<module>\u001b[0;34m\u001b[0m\n\u001b[1;32m      3\u001b[0m \u001b[0my_test\u001b[0m \u001b[0;34m=\u001b[0m \u001b[0mdf_bolt1_test\u001b[0m\u001b[0;34m\u001b[0m\u001b[0;34m\u001b[0m\u001b[0m\n\u001b[1;32m      4\u001b[0m \u001b[0;34m\u001b[0m\u001b[0m\n\u001b[0;32m----> 5\u001b[0;31m \u001b[0my_pred\u001b[0m \u001b[0;34m=\u001b[0m \u001b[0mmodel\u001b[0m\u001b[0;34m.\u001b[0m\u001b[0mpredict\u001b[0m\u001b[0;34m(\u001b[0m\u001b[0my_train\u001b[0m\u001b[0;34m)\u001b[0m\u001b[0;34m\u001b[0m\u001b[0;34m\u001b[0m\u001b[0m\n\u001b[0m\u001b[1;32m      6\u001b[0m \u001b[0;34m\u001b[0m\u001b[0m\n\u001b[1;32m      7\u001b[0m \u001b[0mprint\u001b[0m\u001b[0;34m(\u001b[0m\u001b[0;34m\"r squre training: \"\u001b[0m\u001b[0;34m,\u001b[0m \u001b[0mmodel\u001b[0m\u001b[0;34m.\u001b[0m\u001b[0mscore\u001b[0m\u001b[0;34m(\u001b[0m\u001b[0my_train\u001b[0m\u001b[0;34m,\u001b[0m \u001b[0my_pred\u001b[0m\u001b[0;34m)\u001b[0m\u001b[0;34m)\u001b[0m\u001b[0;34m\u001b[0m\u001b[0;34m\u001b[0m\u001b[0m\n",
      "\u001b[0;32m/opt/conda/lib/python3.9/site-packages/sklearn/ensemble/_forest.py\u001b[0m in \u001b[0;36mpredict\u001b[0;34m(self, X)\u001b[0m\n\u001b[1;32m    969\u001b[0m         \u001b[0mcheck_is_fitted\u001b[0m\u001b[0;34m(\u001b[0m\u001b[0mself\u001b[0m\u001b[0;34m)\u001b[0m\u001b[0;34m\u001b[0m\u001b[0;34m\u001b[0m\u001b[0m\n\u001b[1;32m    970\u001b[0m         \u001b[0;31m# Check data\u001b[0m\u001b[0;34m\u001b[0m\u001b[0;34m\u001b[0m\u001b[0m\n\u001b[0;32m--> 971\u001b[0;31m         \u001b[0mX\u001b[0m \u001b[0;34m=\u001b[0m \u001b[0mself\u001b[0m\u001b[0;34m.\u001b[0m\u001b[0m_validate_X_predict\u001b[0m\u001b[0;34m(\u001b[0m\u001b[0mX\u001b[0m\u001b[0;34m)\u001b[0m\u001b[0;34m\u001b[0m\u001b[0;34m\u001b[0m\u001b[0m\n\u001b[0m\u001b[1;32m    972\u001b[0m \u001b[0;34m\u001b[0m\u001b[0m\n\u001b[1;32m    973\u001b[0m         \u001b[0;31m# Assign chunk of trees to jobs\u001b[0m\u001b[0;34m\u001b[0m\u001b[0;34m\u001b[0m\u001b[0m\n",
      "\u001b[0;32m/opt/conda/lib/python3.9/site-packages/sklearn/ensemble/_forest.py\u001b[0m in \u001b[0;36m_validate_X_predict\u001b[0;34m(self, X)\u001b[0m\n\u001b[1;32m    577\u001b[0m         Validate X whenever one tries to predict, apply, predict_proba.\"\"\"\n\u001b[1;32m    578\u001b[0m         \u001b[0mcheck_is_fitted\u001b[0m\u001b[0;34m(\u001b[0m\u001b[0mself\u001b[0m\u001b[0;34m)\u001b[0m\u001b[0;34m\u001b[0m\u001b[0;34m\u001b[0m\u001b[0m\n\u001b[0;32m--> 579\u001b[0;31m         \u001b[0mX\u001b[0m \u001b[0;34m=\u001b[0m \u001b[0mself\u001b[0m\u001b[0;34m.\u001b[0m\u001b[0m_validate_data\u001b[0m\u001b[0;34m(\u001b[0m\u001b[0mX\u001b[0m\u001b[0;34m,\u001b[0m \u001b[0mdtype\u001b[0m\u001b[0;34m=\u001b[0m\u001b[0mDTYPE\u001b[0m\u001b[0;34m,\u001b[0m \u001b[0maccept_sparse\u001b[0m\u001b[0;34m=\u001b[0m\u001b[0;34m\"csr\"\u001b[0m\u001b[0;34m,\u001b[0m \u001b[0mreset\u001b[0m\u001b[0;34m=\u001b[0m\u001b[0;32mFalse\u001b[0m\u001b[0;34m)\u001b[0m\u001b[0;34m\u001b[0m\u001b[0;34m\u001b[0m\u001b[0m\n\u001b[0m\u001b[1;32m    580\u001b[0m         \u001b[0;32mif\u001b[0m \u001b[0missparse\u001b[0m\u001b[0;34m(\u001b[0m\u001b[0mX\u001b[0m\u001b[0;34m)\u001b[0m \u001b[0;32mand\u001b[0m \u001b[0;34m(\u001b[0m\u001b[0mX\u001b[0m\u001b[0;34m.\u001b[0m\u001b[0mindices\u001b[0m\u001b[0;34m.\u001b[0m\u001b[0mdtype\u001b[0m \u001b[0;34m!=\u001b[0m \u001b[0mnp\u001b[0m\u001b[0;34m.\u001b[0m\u001b[0mintc\u001b[0m \u001b[0;32mor\u001b[0m \u001b[0mX\u001b[0m\u001b[0;34m.\u001b[0m\u001b[0mindptr\u001b[0m\u001b[0;34m.\u001b[0m\u001b[0mdtype\u001b[0m \u001b[0;34m!=\u001b[0m \u001b[0mnp\u001b[0m\u001b[0;34m.\u001b[0m\u001b[0mintc\u001b[0m\u001b[0;34m)\u001b[0m\u001b[0;34m:\u001b[0m\u001b[0;34m\u001b[0m\u001b[0;34m\u001b[0m\u001b[0m\n\u001b[1;32m    581\u001b[0m             \u001b[0;32mraise\u001b[0m \u001b[0mValueError\u001b[0m\u001b[0;34m(\u001b[0m\u001b[0;34m\"No support for np.int64 index based sparse matrices\"\u001b[0m\u001b[0;34m)\u001b[0m\u001b[0;34m\u001b[0m\u001b[0;34m\u001b[0m\u001b[0m\n",
      "\u001b[0;32m/opt/conda/lib/python3.9/site-packages/sklearn/base.py\u001b[0m in \u001b[0;36m_validate_data\u001b[0;34m(self, X, y, reset, validate_separately, **check_params)\u001b[0m\n\u001b[1;32m    583\u001b[0m \u001b[0;34m\u001b[0m\u001b[0m\n\u001b[1;32m    584\u001b[0m         \u001b[0;32mif\u001b[0m \u001b[0;32mnot\u001b[0m \u001b[0mno_val_X\u001b[0m \u001b[0;32mand\u001b[0m \u001b[0mcheck_params\u001b[0m\u001b[0;34m.\u001b[0m\u001b[0mget\u001b[0m\u001b[0;34m(\u001b[0m\u001b[0;34m\"ensure_2d\"\u001b[0m\u001b[0;34m,\u001b[0m \u001b[0;32mTrue\u001b[0m\u001b[0;34m)\u001b[0m\u001b[0;34m:\u001b[0m\u001b[0;34m\u001b[0m\u001b[0;34m\u001b[0m\u001b[0m\n\u001b[0;32m--> 585\u001b[0;31m             \u001b[0mself\u001b[0m\u001b[0;34m.\u001b[0m\u001b[0m_check_n_features\u001b[0m\u001b[0;34m(\u001b[0m\u001b[0mX\u001b[0m\u001b[0;34m,\u001b[0m \u001b[0mreset\u001b[0m\u001b[0;34m=\u001b[0m\u001b[0mreset\u001b[0m\u001b[0;34m)\u001b[0m\u001b[0;34m\u001b[0m\u001b[0;34m\u001b[0m\u001b[0m\n\u001b[0m\u001b[1;32m    586\u001b[0m \u001b[0;34m\u001b[0m\u001b[0m\n\u001b[1;32m    587\u001b[0m         \u001b[0;32mreturn\u001b[0m \u001b[0mout\u001b[0m\u001b[0;34m\u001b[0m\u001b[0;34m\u001b[0m\u001b[0m\n",
      "\u001b[0;32m/opt/conda/lib/python3.9/site-packages/sklearn/base.py\u001b[0m in \u001b[0;36m_check_n_features\u001b[0;34m(self, X, reset)\u001b[0m\n\u001b[1;32m    398\u001b[0m \u001b[0;34m\u001b[0m\u001b[0m\n\u001b[1;32m    399\u001b[0m         \u001b[0;32mif\u001b[0m \u001b[0mn_features\u001b[0m \u001b[0;34m!=\u001b[0m \u001b[0mself\u001b[0m\u001b[0;34m.\u001b[0m\u001b[0mn_features_in_\u001b[0m\u001b[0;34m:\u001b[0m\u001b[0;34m\u001b[0m\u001b[0;34m\u001b[0m\u001b[0m\n\u001b[0;32m--> 400\u001b[0;31m             raise ValueError(\n\u001b[0m\u001b[1;32m    401\u001b[0m                 \u001b[0;34mf\"X has {n_features} features, but {self.__class__.__name__} \"\u001b[0m\u001b[0;34m\u001b[0m\u001b[0;34m\u001b[0m\u001b[0m\n\u001b[1;32m    402\u001b[0m                 \u001b[0;34mf\"is expecting {self.n_features_in_} features as input.\"\u001b[0m\u001b[0;34m\u001b[0m\u001b[0;34m\u001b[0m\u001b[0m\n",
      "\u001b[0;31mValueError\u001b[0m: X has 10 features, but RandomForestRegressor is expecting 16 features as input."
     ]
    }
   ],
   "source": [
    "# Test set\n",
    "y_train = df_min_test\n",
    "y_test = df_bolt1_test\n",
    "\n",
    "y_pred = model.predict(y_train)\n",
    "\n",
    "print(\"r squre training: \", model.score(y_train, y_pred))\n",
    "print(\"MAPE training: \", mean_absolute_percentage_error(y_test, y_pred))\n",
    "\n",
    "y = np.array(abs(y_test-y_pred))\n",
    "x = np.array(y_train[\"Mode_operation\"])\n",
    "\n",
    "print(\"Number in operation: \", np.sum(x))\n",
    "print(\"Number in start: \", len(x)-np.sum(x))\n",
    "\n",
    "plt.figure()\n",
    "plt.scatter(y, x)\n",
    "plt.xlabel(\"Diff y_true - y_pred\")\n",
    "plt.ylabel(\"Mode (1 operation, 0 start)\")\n",
    "plt.title(\"Difference in error between operation and start\")\n",
    "plt.show()"
   ]
  },
  {
   "cell_type": "code",
   "execution_count": 76,
   "metadata": {},
   "outputs": [
    {
     "name": "stdout",
     "output_type": "stream",
     "text": [
      "r squre training:  0.9657703924252521\n",
      "MAPE training:  0.0004385107909372511\n"
     ]
    },
    {
     "data": {
      "image/png": "[encoded data removed]",
      "text/plain": [
       "<Figure size 432x288 with 1 Axes>"
      ]
     },
     "metadata": {
      "needs_background": "light"
     },
     "output_type": "display_data"
    }
   ],
   "source": [
    "# Check model on all data\n",
    "\n",
    "x_train = df_all_train\n",
    "y_train = df_bolt1_train\n",
    "\n",
    "model = RandomForestRegressor(max_depth=4, n_estimators=100, criterion=\"absolute_error\", map_depth=3, max_features=4)\n",
    "model.fit(x_train, y_train)\n",
    "\n",
    "y_pred = model.predict(x_train)\n",
    "print(\"r squre training: \", model.score(x_train, y_train))\n",
    "print(\"MAPE training: \", mean_absolute_percentage_error(y_train, y_pred))\n",
    "\n",
    "y = np.array(abs(y_train-y_pred))\n",
    "x = np.array(x_train[\"Mode_operation\"])\n",
    "\n",
    "plt.figure()\n",
    "plt.scatter(y, x)\n",
    "plt.xlabel(\"Diff y_true - y_pred\")\n",
    "plt.ylabel(\"Mode (1 operation, 0 start)\")\n",
    "plt.title(\"Difference in error between operation and start\")\n",
    "plt.show()"
   ]
  },
  {
   "cell_type": "code",
   "execution_count": 75,
   "metadata": {},
   "outputs": [
    {
     "name": "stderr",
     "output_type": "stream",
     "text": [
      "/opt/conda/lib/python3.9/site-packages/sklearn/ensemble/_forest.py:993: RuntimeWarning: invalid value encountered in true_divide\n",
      "  y_hat /= len(self.estimators_)\n",
      "/opt/conda/lib/python3.9/site-packages/sklearn/ensemble/_forest.py:993: RuntimeWarning: invalid value encountered in true_divide\n",
      "  y_hat /= len(self.estimators_)\n"
     ]
    },
    {
     "ename": "ValueError",
     "evalue": "Input contains NaN, infinity or a value too large for dtype('float64').",
     "output_type": "error",
     "traceback": [
      "\u001b[0;31m---------------------------------------------------------------------------\u001b[0m",
      "\u001b[0;31mValueError\u001b[0m                                Traceback (most recent call last)",
      "\u001b[0;32m/tmp/ipykernel_882/1925946444.py\u001b[0m in \u001b[0;36m<module>\u001b[0;34m\u001b[0m\n\u001b[1;32m      5\u001b[0m \u001b[0my_pred\u001b[0m \u001b[0;34m=\u001b[0m \u001b[0mmodel\u001b[0m\u001b[0;34m.\u001b[0m\u001b[0mpredict\u001b[0m\u001b[0;34m(\u001b[0m\u001b[0my_train\u001b[0m\u001b[0;34m)\u001b[0m\u001b[0;34m\u001b[0m\u001b[0;34m\u001b[0m\u001b[0m\n\u001b[1;32m      6\u001b[0m \u001b[0;34m\u001b[0m\u001b[0m\n\u001b[0;32m----> 7\u001b[0;31m \u001b[0mprint\u001b[0m\u001b[0;34m(\u001b[0m\u001b[0;34m\"r squre training: \"\u001b[0m\u001b[0;34m,\u001b[0m \u001b[0mmodel\u001b[0m\u001b[0;34m.\u001b[0m\u001b[0mscore\u001b[0m\u001b[0;34m(\u001b[0m\u001b[0my_train\u001b[0m\u001b[0;34m,\u001b[0m \u001b[0my_pred\u001b[0m\u001b[0;34m)\u001b[0m\u001b[0;34m)\u001b[0m\u001b[0;34m\u001b[0m\u001b[0;34m\u001b[0m\u001b[0m\n\u001b[0m\u001b[1;32m      8\u001b[0m \u001b[0mprint\u001b[0m\u001b[0;34m(\u001b[0m\u001b[0;34m\"MAPE training: \"\u001b[0m\u001b[0;34m,\u001b[0m \u001b[0mmean_absolute_percentage_error\u001b[0m\u001b[0;34m(\u001b[0m\u001b[0my_test\u001b[0m\u001b[0;34m,\u001b[0m \u001b[0my_pred\u001b[0m\u001b[0;34m)\u001b[0m\u001b[0;34m)\u001b[0m\u001b[0;34m\u001b[0m\u001b[0;34m\u001b[0m\u001b[0m\n\u001b[1;32m      9\u001b[0m \u001b[0;34m\u001b[0m\u001b[0m\n",
      "\u001b[0;32m/opt/conda/lib/python3.9/site-packages/sklearn/base.py\u001b[0m in \u001b[0;36mscore\u001b[0;34m(self, X, y, sample_weight)\u001b[0m\n\u001b[1;32m    704\u001b[0m \u001b[0;34m\u001b[0m\u001b[0m\n\u001b[1;32m    705\u001b[0m         \u001b[0my_pred\u001b[0m \u001b[0;34m=\u001b[0m \u001b[0mself\u001b[0m\u001b[0;34m.\u001b[0m\u001b[0mpredict\u001b[0m\u001b[0;34m(\u001b[0m\u001b[0mX\u001b[0m\u001b[0;34m)\u001b[0m\u001b[0;34m\u001b[0m\u001b[0;34m\u001b[0m\u001b[0m\n\u001b[0;32m--> 706\u001b[0;31m         \u001b[0;32mreturn\u001b[0m \u001b[0mr2_score\u001b[0m\u001b[0;34m(\u001b[0m\u001b[0my\u001b[0m\u001b[0;34m,\u001b[0m \u001b[0my_pred\u001b[0m\u001b[0;34m,\u001b[0m \u001b[0msample_weight\u001b[0m\u001b[0;34m=\u001b[0m\u001b[0msample_weight\u001b[0m\u001b[0;34m)\u001b[0m\u001b[0;34m\u001b[0m\u001b[0;34m\u001b[0m\u001b[0m\n\u001b[0m\u001b[1;32m    707\u001b[0m \u001b[0;34m\u001b[0m\u001b[0m\n\u001b[1;32m    708\u001b[0m     \u001b[0;32mdef\u001b[0m \u001b[0m_more_tags\u001b[0m\u001b[0;34m(\u001b[0m\u001b[0mself\u001b[0m\u001b[0;34m)\u001b[0m\u001b[0;34m:\u001b[0m\u001b[0;34m\u001b[0m\u001b[0;34m\u001b[0m\u001b[0m\n",
      "\u001b[0;32m/opt/conda/lib/python3.9/site-packages/sklearn/metrics/_regression.py\u001b[0m in \u001b[0;36mr2_score\u001b[0;34m(y_true, y_pred, sample_weight, multioutput)\u001b[0m\n\u001b[1;32m    787\u001b[0m     \u001b[0;34m-\u001b[0m\u001b[0;36m3.0\u001b[0m\u001b[0;34m\u001b[0m\u001b[0;34m\u001b[0m\u001b[0m\n\u001b[1;32m    788\u001b[0m     \"\"\"\n\u001b[0;32m--> 789\u001b[0;31m     y_type, y_true, y_pred, multioutput = _check_reg_targets(\n\u001b[0m\u001b[1;32m    790\u001b[0m         \u001b[0my_true\u001b[0m\u001b[0;34m,\u001b[0m \u001b[0my_pred\u001b[0m\u001b[0;34m,\u001b[0m \u001b[0mmultioutput\u001b[0m\u001b[0;34m\u001b[0m\u001b[0;34m\u001b[0m\u001b[0m\n\u001b[1;32m    791\u001b[0m     )\n",
      "\u001b[0;32m/opt/conda/lib/python3.9/site-packages/sklearn/metrics/_regression.py\u001b[0m in \u001b[0;36m_check_reg_targets\u001b[0;34m(y_true, y_pred, multioutput, dtype)\u001b[0m\n\u001b[1;32m     93\u001b[0m     \"\"\"\n\u001b[1;32m     94\u001b[0m     \u001b[0mcheck_consistent_length\u001b[0m\u001b[0;34m(\u001b[0m\u001b[0my_true\u001b[0m\u001b[0;34m,\u001b[0m \u001b[0my_pred\u001b[0m\u001b[0;34m)\u001b[0m\u001b[0;34m\u001b[0m\u001b[0;34m\u001b[0m\u001b[0m\n\u001b[0;32m---> 95\u001b[0;31m     \u001b[0my_true\u001b[0m \u001b[0;34m=\u001b[0m \u001b[0mcheck_array\u001b[0m\u001b[0;34m(\u001b[0m\u001b[0my_true\u001b[0m\u001b[0;34m,\u001b[0m \u001b[0mensure_2d\u001b[0m\u001b[0;34m=\u001b[0m\u001b[0;32mFalse\u001b[0m\u001b[0;34m,\u001b[0m \u001b[0mdtype\u001b[0m\u001b[0;34m=\u001b[0m\u001b[0mdtype\u001b[0m\u001b[0;34m)\u001b[0m\u001b[0;34m\u001b[0m\u001b[0;34m\u001b[0m\u001b[0m\n\u001b[0m\u001b[1;32m     96\u001b[0m     \u001b[0my_pred\u001b[0m \u001b[0;34m=\u001b[0m \u001b[0mcheck_array\u001b[0m\u001b[0;34m(\u001b[0m\u001b[0my_pred\u001b[0m\u001b[0;34m,\u001b[0m \u001b[0mensure_2d\u001b[0m\u001b[0;34m=\u001b[0m\u001b[0;32mFalse\u001b[0m\u001b[0;34m,\u001b[0m \u001b[0mdtype\u001b[0m\u001b[0;34m=\u001b[0m\u001b[0mdtype\u001b[0m\u001b[0;34m)\u001b[0m\u001b[0;34m\u001b[0m\u001b[0;34m\u001b[0m\u001b[0m\n\u001b[1;32m     97\u001b[0m \u001b[0;34m\u001b[0m\u001b[0m\n",
      "\u001b[0;32m/opt/conda/lib/python3.9/site-packages/sklearn/utils/validation.py\u001b[0m in \u001b[0;36mcheck_array\u001b[0;34m(array, accept_sparse, accept_large_sparse, dtype, order, copy, force_all_finite, ensure_2d, allow_nd, ensure_min_samples, ensure_min_features, estimator)\u001b[0m\n\u001b[1;32m    798\u001b[0m \u001b[0;34m\u001b[0m\u001b[0m\n\u001b[1;32m    799\u001b[0m         \u001b[0;32mif\u001b[0m \u001b[0mforce_all_finite\u001b[0m\u001b[0;34m:\u001b[0m\u001b[0;34m\u001b[0m\u001b[0;34m\u001b[0m\u001b[0m\n\u001b[0;32m--> 800\u001b[0;31m             \u001b[0m_assert_all_finite\u001b[0m\u001b[0;34m(\u001b[0m\u001b[0marray\u001b[0m\u001b[0;34m,\u001b[0m \u001b[0mallow_nan\u001b[0m\u001b[0;34m=\u001b[0m\u001b[0mforce_all_finite\u001b[0m \u001b[0;34m==\u001b[0m \u001b[0;34m\"allow-nan\"\u001b[0m\u001b[0;34m)\u001b[0m\u001b[0;34m\u001b[0m\u001b[0;34m\u001b[0m\u001b[0m\n\u001b[0m\u001b[1;32m    801\u001b[0m \u001b[0;34m\u001b[0m\u001b[0m\n\u001b[1;32m    802\u001b[0m     \u001b[0;32mif\u001b[0m \u001b[0mensure_min_samples\u001b[0m \u001b[0;34m>\u001b[0m \u001b[0;36m0\u001b[0m\u001b[0;34m:\u001b[0m\u001b[0;34m\u001b[0m\u001b[0;34m\u001b[0m\u001b[0m\n",
      "\u001b[0;32m/opt/conda/lib/python3.9/site-packages/sklearn/utils/validation.py\u001b[0m in \u001b[0;36m_assert_all_finite\u001b[0;34m(X, allow_nan, msg_dtype)\u001b[0m\n\u001b[1;32m    112\u001b[0m         ):\n\u001b[1;32m    113\u001b[0m             \u001b[0mtype_err\u001b[0m \u001b[0;34m=\u001b[0m \u001b[0;34m\"infinity\"\u001b[0m \u001b[0;32mif\u001b[0m \u001b[0mallow_nan\u001b[0m \u001b[0;32melse\u001b[0m \u001b[0;34m\"NaN, infinity\"\u001b[0m\u001b[0;34m\u001b[0m\u001b[0;34m\u001b[0m\u001b[0m\n\u001b[0;32m--> 114\u001b[0;31m             raise ValueError(\n\u001b[0m\u001b[1;32m    115\u001b[0m                 msg_err.format(\n\u001b[1;32m    116\u001b[0m                     \u001b[0mtype_err\u001b[0m\u001b[0;34m,\u001b[0m \u001b[0mmsg_dtype\u001b[0m \u001b[0;32mif\u001b[0m \u001b[0mmsg_dtype\u001b[0m \u001b[0;32mis\u001b[0m \u001b[0;32mnot\u001b[0m \u001b[0;32mNone\u001b[0m \u001b[0;32melse\u001b[0m \u001b[0mX\u001b[0m\u001b[0;34m.\u001b[0m\u001b[0mdtype\u001b[0m\u001b[0;34m\u001b[0m\u001b[0;34m\u001b[0m\u001b[0m\n",
      "\u001b[0;31mValueError\u001b[0m: Input contains NaN, infinity or a value too large for dtype('float64')."
     ]
    }
   ],
   "source": [
    "# Test set\n",
    "y_train = df_all_test\n",
    "y_test = df_bolt1_test\n",
    "\n",
    "y_pred = model.predict(y_train)\n",
    "\n",
    "print(\"r squre training: \", model.score(y_train, y_pred))\n",
    "print(\"MAPE training: \", mean_absolute_percentage_error(y_test, y_pred))\n",
    "\n",
    "y = np.array(abs(y_test-y_pred))\n",
    "x = np.array(y_train[\"Mode_operation\"])\n",
    "\n",
    "print(\"Number in operation: \", np.sum(x))\n",
    "print(\"Number in start: \", y_train.shape[0]-np.sum(x))\n",
    "\n",
    "plt.figure()\n",
    "plt.scatter(y, x)\n",
    "plt.xlabel(\"Diff y_true - y_pred\")\n",
    "plt.ylabel(\"Mode (1 operation, 0 start)\")\n",
    "plt.title(\"Difference in error between operation and start\")\n",
    "plt.show()"
   ]
  },
  {
   "cell_type": "code",
   "execution_count": 59,
   "metadata": {},
   "outputs": [
    {
     "name": "stdout",
     "output_type": "stream",
     "text": [
      "MAPE:  0.011685950505447278\n"
     ]
    }
   ],
   "source": [
    "# XGBoost\n",
    "from xgboost import XGBRegressor\n",
    "from sklearn.metrics import accuracy_score\n",
    "\n",
    "x_train = df_min_train\n",
    "y_train = df_bolt1_train\n",
    "\n",
    "model = XGBRegressor(booster=\"gbtree\", learning_rate=0.2, gamma=0.1, max_depth=6, eval_metric=\"mae\")\n",
    "\n",
    "model.fit(x_train, y_train)\n",
    "\n",
    "# make predictions for test data\n",
    "x_test = df_min_test\n",
    "y_test = df_bolt1_test\n",
    "\n",
    "y_pred = model.predict(x_test)\n",
    "predictions = [round(value) for value in y_pred]\n",
    "# evaluate predictions\n",
    "#accuracy = accuracy_score(y_test, predictions)\n",
    "#print(\"Accuracy: %.2f%%\" % (accuracy * 100.0))\n",
    "print(\"MAPE: \", mean_absolute_percentage_error(y_test, predictions))"
   ]
  }
 ],
 "metadata": {
  "interpreter": {
   "hash": "d4d1e4263499bec80672ea0156c357c1ee493ec2b1c70f0acce89fc37c4a6abe"
  },
  "kernelspec": {
   "display_name": "Python 3.9.7 ('base')",
   "language": "python",
   "name": "python3"
  },
  "language_info": {
   "codemirror_mode": {
    "name": "ipython",
    "version": 3
   },
   "file_extension": ".py",
   "mimetype": "text/x-python",
   "name": "python",
   "nbconvert_exporter": "python",
   "pygments_lexer": "ipython3",
   "version": "3.9.7"
  },
  "orig_nbformat": 4
 },
 "nbformat": 4,
 "nbformat_minor": 2
}
